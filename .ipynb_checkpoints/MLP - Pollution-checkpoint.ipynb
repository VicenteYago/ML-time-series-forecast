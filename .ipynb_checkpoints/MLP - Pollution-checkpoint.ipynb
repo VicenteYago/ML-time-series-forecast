{
 "cells": [
  {
   "cell_type": "markdown",
   "id": "7a055866",
   "metadata": {},
   "source": [
    "# MLP time series model"
   ]
  },
  {
   "cell_type": "code",
   "execution_count": null,
   "id": "cf73a42e",
   "metadata": {},
   "outputs": [],
   "source": [
    "import pandas as pd \n",
    "import matplotlib.pyplot as plt\n",
    "import numpy as np\n",
    "\n",
    "from numpy import array\n",
    "from keras.models import Sequential\n",
    "from keras.layers import Dense\n",
    "\n",
    "from numpy import hstack"
   ]
  }
 ],
 "metadata": {
  "kernelspec": {
   "display_name": "xgboost",
   "language": "python",
   "name": "xgboost"
  },
  "language_info": {
   "codemirror_mode": {
    "name": "ipython",
    "version": 3
   },
   "file_extension": ".py",
   "mimetype": "text/x-python",
   "name": "python",
   "nbconvert_exporter": "python",
   "pygments_lexer": "ipython3",
   "version": "3.8.13"
  }
 },
 "nbformat": 4,
 "nbformat_minor": 5
}
